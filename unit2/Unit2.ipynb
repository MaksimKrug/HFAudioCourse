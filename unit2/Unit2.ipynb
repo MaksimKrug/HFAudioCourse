{
 "cells": [
  {
   "cell_type": "code",
   "execution_count": null,
   "id": "ec958b13",
   "metadata": {},
   "outputs": [],
   "source": [
    "import itertools\n",
    "from datasets import load_dataset\n",
    "from IPython.display import Audio\n",
    "import matplotlib.pyplot as plt\n",
    "import numpy as np\n",
    "import librosa\n",
    "import librosa.display\n",
    "\n",
    "from transformers import pipeline"
   ]
  },
  {
   "cell_type": "markdown",
   "id": "16947f3c",
   "metadata": {},
   "source": [
    "## Task"
   ]
  },
  {
   "cell_type": "code",
   "execution_count": null,
   "id": "40535d75",
   "metadata": {},
   "outputs": [],
   "source": [
    "# Load dataset\n",
    "data = load_dataset(\"facebook/voxpopuli\", name=\"en\", split=\"train\", streaming=True)"
   ]
  },
  {
   "cell_type": "code",
   "execution_count": null,
   "id": "626e0c69",
   "metadata": {},
   "outputs": [],
   "source": [
    "# Get third sample\n",
    "sample = next(itertools.islice(data, 2, None))\n",
    "sample"
   ]
  },
  {
   "cell_type": "code",
   "execution_count": null,
   "id": "3ad644da",
   "metadata": {},
   "outputs": [],
   "source": [
    "# Check it\n",
    "Audio(sample[\"audio\"][\"array\"], rate=sample[\"audio\"][\"sampling_rate\"])"
   ]
  },
  {
   "cell_type": "code",
   "execution_count": null,
   "id": "e695ed16",
   "metadata": {},
   "outputs": [],
   "source": [
    "# Waveform\n",
    "plt.figure().set_figwidth(12)\n",
    "librosa.display.waveshow(sample[\"audio\"][\"array\"], sr=sample[\"audio\"][\"sampling_rate\"])"
   ]
  },
  {
   "cell_type": "code",
   "execution_count": null,
   "id": "7ee04cec",
   "metadata": {},
   "outputs": [],
   "source": [
    "# Spectrogram\n",
    "D = librosa.stft(sample[\"audio\"][\"array\"])\n",
    "S_db = librosa.amplitude_to_db(np.abs(D), ref=np.max)\n",
    "\n",
    "plt.figure().set_figwidth(12)\n",
    "librosa.display.specshow(S_db, x_axis=\"time\", y_axis=\"hz\")\n",
    "plt.colorbar();"
   ]
  },
  {
   "cell_type": "code",
   "execution_count": null,
   "id": "b5dda6a5",
   "metadata": {},
   "outputs": [],
   "source": [
    "%%time\n",
    "# Speech recognition\n",
    "asr = pipeline(\"automatic-speech-recognition\", model=\"distil-whisper/distil-large-v2\")\n",
    "res = asr(sample[\"audio\"][\"array\"])\n",
    "\n",
    "print(f\"Pred: {res['text']}\", end=\"\\n\\n\")\n",
    "print(f\"Real data: {sample['raw_text']}\")"
   ]
  },
  {
   "cell_type": "code",
   "execution_count": null,
   "id": "d9944c32",
   "metadata": {},
   "outputs": [],
   "source": []
  },
  {
   "cell_type": "code",
   "execution_count": null,
   "id": "4443e5d3",
   "metadata": {},
   "outputs": [],
   "source": []
  },
  {
   "cell_type": "code",
   "execution_count": null,
   "id": "e86740b4",
   "metadata": {},
   "outputs": [],
   "source": []
  }
 ],
 "metadata": {
  "kernelspec": {
   "display_name": "Python 3 (ipykernel)",
   "language": "python",
   "name": "python3"
  },
  "language_info": {
   "codemirror_mode": {
    "name": "ipython",
    "version": 3
   },
   "file_extension": ".py",
   "mimetype": "text/x-python",
   "name": "python",
   "nbconvert_exporter": "python",
   "pygments_lexer": "ipython3",
   "version": "3.10.12"
  }
 },
 "nbformat": 4,
 "nbformat_minor": 5
}
